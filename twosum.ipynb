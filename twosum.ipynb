{
 "cells": [
  {
   "cell_type": "markdown",
   "metadata": {},
   "source": [
    "Atividade 1 - TwoSum - Gabriela Dobbert Sanches"
   ]
  },
  {
   "cell_type": "code",
   "execution_count": 2,
   "metadata": {},
   "outputs": [],
   "source": [
    "def twoSum(nums, target):\n",
    "\n",
    "    num_to_index = {}\n",
    "    \n",
    "    for i, num in enumerate(nums):\n",
    "        complement = target - num\n",
    "        \n",
    "        if complement in num_to_index:\n",
    "            return [num_to_index[complement], i]\n",
    "        \n",
    "        num_to_index[num] = i"
   ]
  },
  {
   "cell_type": "code",
   "execution_count": 3,
   "metadata": {},
   "outputs": [
    {
     "name": "stdout",
     "output_type": "stream",
     "text": [
      "[1, 2]\n"
     ]
    }
   ],
   "source": [
    "nums = list(map(int, input(\"Digite os números separados por espaço: \").split()))\n",
    "target = int(input(\"Digite o target: \"))\n",
    "\n",
    "result = twoSum(nums, target)\n",
    "print(result)"
   ]
  },
  {
   "cell_type": "markdown",
   "metadata": {},
   "source": [
    "Para resolver o problema foi utilizado um dicionário, sendo cada item um o número e seu índice. A ideia é verificar se a diferença entre o target e o número atual já está no dicionário. Se estiver, isso significa que encontramos os dois números os quais a soma é igual ao target."
   ]
  }
 ],
 "metadata": {
  "kernelspec": {
   "display_name": "Python 3",
   "language": "python",
   "name": "python3"
  },
  "language_info": {
   "codemirror_mode": {
    "name": "ipython",
    "version": 3
   },
   "file_extension": ".py",
   "mimetype": "text/x-python",
   "name": "python",
   "nbconvert_exporter": "python",
   "pygments_lexer": "ipython3",
   "version": "3.11.9"
  }
 },
 "nbformat": 4,
 "nbformat_minor": 2
}
